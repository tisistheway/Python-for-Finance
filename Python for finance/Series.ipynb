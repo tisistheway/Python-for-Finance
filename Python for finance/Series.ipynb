{
 "cells": [
  {
   "cell_type": "markdown",
   "id": "3754e0b8",
   "metadata": {},
   "source": [
    "# Series\n",
    "* use type to get data types\n",
    "* Each column is a series\n",
    "* series show data types (dtype)\n",
    "* Calculate with series\n",
    "- daily change\n",
    "- daily oercentage change\n",
    "- noralize data\n",
    "* similar to excel\n",
    "* indexing with series"
   ]
  },
  {
   "cell_type": "code",
   "execution_count": 1,
   "id": "5599073c",
   "metadata": {},
   "outputs": [],
   "source": [
    "import pandas as pd\n",
    "import csv"
   ]
  },
  {
   "cell_type": "code",
   "execution_count": 10,
   "id": "597279ee",
   "metadata": {},
   "outputs": [],
   "source": [
    "data=pd.read_csv(\"AAPL.csv\",index_col='Date',parse_dates=True)"
   ]
  },
  {
   "cell_type": "code",
   "execution_count": 11,
   "id": "50cea749",
   "metadata": {},
   "outputs": [
    {
     "data": {
      "text/html": [
       "<div>\n",
       "<style scoped>\n",
       "    .dataframe tbody tr th:only-of-type {\n",
       "        vertical-align: middle;\n",
       "    }\n",
       "\n",
       "    .dataframe tbody tr th {\n",
       "        vertical-align: top;\n",
       "    }\n",
       "\n",
       "    .dataframe thead th {\n",
       "        text-align: right;\n",
       "    }\n",
       "</style>\n",
       "<table border=\"1\" class=\"dataframe\">\n",
       "  <thead>\n",
       "    <tr style=\"text-align: right;\">\n",
       "      <th></th>\n",
       "      <th>Open</th>\n",
       "      <th>High</th>\n",
       "      <th>Low</th>\n",
       "      <th>Close</th>\n",
       "      <th>Adj Close</th>\n",
       "      <th>Volume</th>\n",
       "    </tr>\n",
       "    <tr>\n",
       "      <th>Date</th>\n",
       "      <th></th>\n",
       "      <th></th>\n",
       "      <th></th>\n",
       "      <th></th>\n",
       "      <th></th>\n",
       "      <th></th>\n",
       "    </tr>\n",
       "  </thead>\n",
       "  <tbody>\n",
       "    <tr>\n",
       "      <th>2021-10-18</th>\n",
       "      <td>143.449997</td>\n",
       "      <td>146.839996</td>\n",
       "      <td>143.160004</td>\n",
       "      <td>146.550003</td>\n",
       "      <td>145.733383</td>\n",
       "      <td>85589200</td>\n",
       "    </tr>\n",
       "    <tr>\n",
       "      <th>2021-10-19</th>\n",
       "      <td>147.009995</td>\n",
       "      <td>149.169998</td>\n",
       "      <td>146.550003</td>\n",
       "      <td>148.759995</td>\n",
       "      <td>147.931061</td>\n",
       "      <td>76378900</td>\n",
       "    </tr>\n",
       "    <tr>\n",
       "      <th>2021-10-20</th>\n",
       "      <td>148.699997</td>\n",
       "      <td>149.750000</td>\n",
       "      <td>148.119995</td>\n",
       "      <td>149.259995</td>\n",
       "      <td>148.428268</td>\n",
       "      <td>58418800</td>\n",
       "    </tr>\n",
       "    <tr>\n",
       "      <th>2021-10-21</th>\n",
       "      <td>148.809998</td>\n",
       "      <td>149.639999</td>\n",
       "      <td>147.869995</td>\n",
       "      <td>149.479996</td>\n",
       "      <td>148.647049</td>\n",
       "      <td>61421000</td>\n",
       "    </tr>\n",
       "    <tr>\n",
       "      <th>2021-10-22</th>\n",
       "      <td>149.690002</td>\n",
       "      <td>150.179993</td>\n",
       "      <td>148.639999</td>\n",
       "      <td>148.690002</td>\n",
       "      <td>147.861450</td>\n",
       "      <td>58883400</td>\n",
       "    </tr>\n",
       "    <tr>\n",
       "      <th>...</th>\n",
       "      <td>...</td>\n",
       "      <td>...</td>\n",
       "      <td>...</td>\n",
       "      <td>...</td>\n",
       "      <td>...</td>\n",
       "      <td>...</td>\n",
       "    </tr>\n",
       "    <tr>\n",
       "      <th>2022-10-10</th>\n",
       "      <td>140.419998</td>\n",
       "      <td>141.889999</td>\n",
       "      <td>138.570007</td>\n",
       "      <td>140.419998</td>\n",
       "      <td>140.419998</td>\n",
       "      <td>74899000</td>\n",
       "    </tr>\n",
       "    <tr>\n",
       "      <th>2022-10-11</th>\n",
       "      <td>139.899994</td>\n",
       "      <td>141.350006</td>\n",
       "      <td>138.220001</td>\n",
       "      <td>138.979996</td>\n",
       "      <td>138.979996</td>\n",
       "      <td>77033700</td>\n",
       "    </tr>\n",
       "    <tr>\n",
       "      <th>2022-10-12</th>\n",
       "      <td>139.130005</td>\n",
       "      <td>140.360001</td>\n",
       "      <td>138.160004</td>\n",
       "      <td>138.339996</td>\n",
       "      <td>138.339996</td>\n",
       "      <td>70433700</td>\n",
       "    </tr>\n",
       "    <tr>\n",
       "      <th>2022-10-13</th>\n",
       "      <td>134.990005</td>\n",
       "      <td>143.589996</td>\n",
       "      <td>134.369995</td>\n",
       "      <td>142.990005</td>\n",
       "      <td>142.990005</td>\n",
       "      <td>113224000</td>\n",
       "    </tr>\n",
       "    <tr>\n",
       "      <th>2022-10-14</th>\n",
       "      <td>144.309998</td>\n",
       "      <td>144.520004</td>\n",
       "      <td>138.190002</td>\n",
       "      <td>138.380005</td>\n",
       "      <td>138.380005</td>\n",
       "      <td>88512300</td>\n",
       "    </tr>\n",
       "  </tbody>\n",
       "</table>\n",
       "<p>251 rows × 6 columns</p>\n",
       "</div>"
      ],
      "text/plain": [
       "                  Open        High         Low       Close   Adj Close  \\\n",
       "Date                                                                     \n",
       "2021-10-18  143.449997  146.839996  143.160004  146.550003  145.733383   \n",
       "2021-10-19  147.009995  149.169998  146.550003  148.759995  147.931061   \n",
       "2021-10-20  148.699997  149.750000  148.119995  149.259995  148.428268   \n",
       "2021-10-21  148.809998  149.639999  147.869995  149.479996  148.647049   \n",
       "2021-10-22  149.690002  150.179993  148.639999  148.690002  147.861450   \n",
       "...                ...         ...         ...         ...         ...   \n",
       "2022-10-10  140.419998  141.889999  138.570007  140.419998  140.419998   \n",
       "2022-10-11  139.899994  141.350006  138.220001  138.979996  138.979996   \n",
       "2022-10-12  139.130005  140.360001  138.160004  138.339996  138.339996   \n",
       "2022-10-13  134.990005  143.589996  134.369995  142.990005  142.990005   \n",
       "2022-10-14  144.309998  144.520004  138.190002  138.380005  138.380005   \n",
       "\n",
       "               Volume  \n",
       "Date                   \n",
       "2021-10-18   85589200  \n",
       "2021-10-19   76378900  \n",
       "2021-10-20   58418800  \n",
       "2021-10-21   61421000  \n",
       "2021-10-22   58883400  \n",
       "...               ...  \n",
       "2022-10-10   74899000  \n",
       "2022-10-11   77033700  \n",
       "2022-10-12   70433700  \n",
       "2022-10-13  113224000  \n",
       "2022-10-14   88512300  \n",
       "\n",
       "[251 rows x 6 columns]"
      ]
     },
     "execution_count": 11,
     "metadata": {},
     "output_type": "execute_result"
    }
   ],
   "source": [
    "data"
   ]
  },
  {
   "cell_type": "code",
   "execution_count": 14,
   "id": "a14063f5",
   "metadata": {},
   "outputs": [
    {
     "data": {
      "text/plain": [
       "pandas.core.frame.DataFrame"
      ]
     },
     "execution_count": 14,
     "metadata": {},
     "output_type": "execute_result"
    }
   ],
   "source": [
    "type(data)"
   ]
  },
  {
   "cell_type": "code",
   "execution_count": 17,
   "id": "1d65c865",
   "metadata": {},
   "outputs": [
    {
     "data": {
      "text/plain": [
       "pandas.core.series.Series"
      ]
     },
     "execution_count": 17,
     "metadata": {},
     "output_type": "execute_result"
    }
   ],
   "source": [
    "type(data['Close'])"
   ]
  },
  {
   "cell_type": "code",
   "execution_count": 18,
   "id": "c4c0a197",
   "metadata": {},
   "outputs": [
    {
     "data": {
      "text/plain": [
       "Date\n",
       "2021-10-18    146.550003\n",
       "2021-10-19    148.759995\n",
       "2021-10-20    149.259995\n",
       "2021-10-21    149.479996\n",
       "2021-10-22    148.690002\n",
       "                 ...    \n",
       "2022-10-10    140.419998\n",
       "2022-10-11    138.979996\n",
       "2022-10-12    138.339996\n",
       "2022-10-13    142.990005\n",
       "2022-10-14    138.380005\n",
       "Name: Close, Length: 251, dtype: float64"
      ]
     },
     "execution_count": 18,
     "metadata": {},
     "output_type": "execute_result"
    }
   ],
   "source": [
    "data['Close']"
   ]
  },
  {
   "cell_type": "code",
   "execution_count": 21,
   "id": "ee8853cd",
   "metadata": {},
   "outputs": [
    {
     "data": {
      "text/plain": [
       "pandas.core.series.Series"
      ]
     },
     "execution_count": 21,
     "metadata": {},
     "output_type": "execute_result"
    }
   ],
   "source": [
    "type(data['Close']) #can be the type is series"
   ]
  },
  {
   "cell_type": "code",
   "execution_count": 22,
   "id": "16baf87b",
   "metadata": {},
   "outputs": [
    {
     "data": {
      "text/plain": [
       "Open         float64\n",
       "High         float64\n",
       "Low          float64\n",
       "Close        float64\n",
       "Adj Close    float64\n",
       "Volume         int64\n",
       "dtype: object"
      ]
     },
     "execution_count": 22,
     "metadata": {},
     "output_type": "execute_result"
    }
   ],
   "source": [
    "data.dtypes"
   ]
  },
  {
   "cell_type": "markdown",
   "id": "bc98c380",
   "metadata": {},
   "source": [
    "Python optimizes calculations"
   ]
  },
  {
   "cell_type": "code",
   "execution_count": 23,
   "id": "e029070f",
   "metadata": {},
   "outputs": [
    {
     "data": {
      "text/html": [
       "<div>\n",
       "<style scoped>\n",
       "    .dataframe tbody tr th:only-of-type {\n",
       "        vertical-align: middle;\n",
       "    }\n",
       "\n",
       "    .dataframe tbody tr th {\n",
       "        vertical-align: top;\n",
       "    }\n",
       "\n",
       "    .dataframe thead th {\n",
       "        text-align: right;\n",
       "    }\n",
       "</style>\n",
       "<table border=\"1\" class=\"dataframe\">\n",
       "  <thead>\n",
       "    <tr style=\"text-align: right;\">\n",
       "      <th></th>\n",
       "      <th>Open</th>\n",
       "      <th>High</th>\n",
       "      <th>Low</th>\n",
       "      <th>Close</th>\n",
       "      <th>Adj Close</th>\n",
       "      <th>Volume</th>\n",
       "    </tr>\n",
       "    <tr>\n",
       "      <th>Date</th>\n",
       "      <th></th>\n",
       "      <th></th>\n",
       "      <th></th>\n",
       "      <th></th>\n",
       "      <th></th>\n",
       "      <th></th>\n",
       "    </tr>\n",
       "  </thead>\n",
       "  <tbody>\n",
       "    <tr>\n",
       "      <th>2021-10-18</th>\n",
       "      <td>143.449997</td>\n",
       "      <td>146.839996</td>\n",
       "      <td>143.160004</td>\n",
       "      <td>146.550003</td>\n",
       "      <td>145.733383</td>\n",
       "      <td>85589200</td>\n",
       "    </tr>\n",
       "    <tr>\n",
       "      <th>2021-10-19</th>\n",
       "      <td>147.009995</td>\n",
       "      <td>149.169998</td>\n",
       "      <td>146.550003</td>\n",
       "      <td>148.759995</td>\n",
       "      <td>147.931061</td>\n",
       "      <td>76378900</td>\n",
       "    </tr>\n",
       "    <tr>\n",
       "      <th>2021-10-20</th>\n",
       "      <td>148.699997</td>\n",
       "      <td>149.750000</td>\n",
       "      <td>148.119995</td>\n",
       "      <td>149.259995</td>\n",
       "      <td>148.428268</td>\n",
       "      <td>58418800</td>\n",
       "    </tr>\n",
       "    <tr>\n",
       "      <th>2021-10-21</th>\n",
       "      <td>148.809998</td>\n",
       "      <td>149.639999</td>\n",
       "      <td>147.869995</td>\n",
       "      <td>149.479996</td>\n",
       "      <td>148.647049</td>\n",
       "      <td>61421000</td>\n",
       "    </tr>\n",
       "    <tr>\n",
       "      <th>2021-10-22</th>\n",
       "      <td>149.690002</td>\n",
       "      <td>150.179993</td>\n",
       "      <td>148.639999</td>\n",
       "      <td>148.690002</td>\n",
       "      <td>147.861450</td>\n",
       "      <td>58883400</td>\n",
       "    </tr>\n",
       "  </tbody>\n",
       "</table>\n",
       "</div>"
      ],
      "text/plain": [
       "                  Open        High         Low       Close   Adj Close  \\\n",
       "Date                                                                     \n",
       "2021-10-18  143.449997  146.839996  143.160004  146.550003  145.733383   \n",
       "2021-10-19  147.009995  149.169998  146.550003  148.759995  147.931061   \n",
       "2021-10-20  148.699997  149.750000  148.119995  149.259995  148.428268   \n",
       "2021-10-21  148.809998  149.639999  147.869995  149.479996  148.647049   \n",
       "2021-10-22  149.690002  150.179993  148.639999  148.690002  147.861450   \n",
       "\n",
       "              Volume  \n",
       "Date                  \n",
       "2021-10-18  85589200  \n",
       "2021-10-19  76378900  \n",
       "2021-10-20  58418800  \n",
       "2021-10-21  61421000  \n",
       "2021-10-22  58883400  "
      ]
     },
     "execution_count": 23,
     "metadata": {},
     "output_type": "execute_result"
    }
   ],
   "source": [
    "data.head()"
   ]
  },
  {
   "cell_type": "code",
   "execution_count": 27,
   "id": "f25223de",
   "metadata": {},
   "outputs": [],
   "source": [
    "daily_change=data['Open']-data['Close']"
   ]
  },
  {
   "cell_type": "code",
   "execution_count": 28,
   "id": "279217a6",
   "metadata": {},
   "outputs": [
    {
     "data": {
      "text/html": [
       "<div>\n",
       "<style scoped>\n",
       "    .dataframe tbody tr th:only-of-type {\n",
       "        vertical-align: middle;\n",
       "    }\n",
       "\n",
       "    .dataframe tbody tr th {\n",
       "        vertical-align: top;\n",
       "    }\n",
       "\n",
       "    .dataframe thead th {\n",
       "        text-align: right;\n",
       "    }\n",
       "</style>\n",
       "<table border=\"1\" class=\"dataframe\">\n",
       "  <thead>\n",
       "    <tr style=\"text-align: right;\">\n",
       "      <th></th>\n",
       "      <th>Open</th>\n",
       "      <th>High</th>\n",
       "      <th>Low</th>\n",
       "      <th>Close</th>\n",
       "      <th>Adj Close</th>\n",
       "      <th>Volume</th>\n",
       "    </tr>\n",
       "    <tr>\n",
       "      <th>Date</th>\n",
       "      <th></th>\n",
       "      <th></th>\n",
       "      <th></th>\n",
       "      <th></th>\n",
       "      <th></th>\n",
       "      <th></th>\n",
       "    </tr>\n",
       "  </thead>\n",
       "  <tbody>\n",
       "    <tr>\n",
       "      <th>2021-10-18</th>\n",
       "      <td>143.449997</td>\n",
       "      <td>146.839996</td>\n",
       "      <td>143.160004</td>\n",
       "      <td>146.550003</td>\n",
       "      <td>145.733383</td>\n",
       "      <td>85589200</td>\n",
       "    </tr>\n",
       "    <tr>\n",
       "      <th>2021-10-19</th>\n",
       "      <td>147.009995</td>\n",
       "      <td>149.169998</td>\n",
       "      <td>146.550003</td>\n",
       "      <td>148.759995</td>\n",
       "      <td>147.931061</td>\n",
       "      <td>76378900</td>\n",
       "    </tr>\n",
       "    <tr>\n",
       "      <th>2021-10-20</th>\n",
       "      <td>148.699997</td>\n",
       "      <td>149.750000</td>\n",
       "      <td>148.119995</td>\n",
       "      <td>149.259995</td>\n",
       "      <td>148.428268</td>\n",
       "      <td>58418800</td>\n",
       "    </tr>\n",
       "    <tr>\n",
       "      <th>2021-10-21</th>\n",
       "      <td>148.809998</td>\n",
       "      <td>149.639999</td>\n",
       "      <td>147.869995</td>\n",
       "      <td>149.479996</td>\n",
       "      <td>148.647049</td>\n",
       "      <td>61421000</td>\n",
       "    </tr>\n",
       "    <tr>\n",
       "      <th>2021-10-22</th>\n",
       "      <td>149.690002</td>\n",
       "      <td>150.179993</td>\n",
       "      <td>148.639999</td>\n",
       "      <td>148.690002</td>\n",
       "      <td>147.861450</td>\n",
       "      <td>58883400</td>\n",
       "    </tr>\n",
       "  </tbody>\n",
       "</table>\n",
       "</div>"
      ],
      "text/plain": [
       "                  Open        High         Low       Close   Adj Close  \\\n",
       "Date                                                                     \n",
       "2021-10-18  143.449997  146.839996  143.160004  146.550003  145.733383   \n",
       "2021-10-19  147.009995  149.169998  146.550003  148.759995  147.931061   \n",
       "2021-10-20  148.699997  149.750000  148.119995  149.259995  148.428268   \n",
       "2021-10-21  148.809998  149.639999  147.869995  149.479996  148.647049   \n",
       "2021-10-22  149.690002  150.179993  148.639999  148.690002  147.861450   \n",
       "\n",
       "              Volume  \n",
       "Date                  \n",
       "2021-10-18  85589200  \n",
       "2021-10-19  76378900  \n",
       "2021-10-20  58418800  \n",
       "2021-10-21  61421000  \n",
       "2021-10-22  58883400  "
      ]
     },
     "execution_count": 28,
     "metadata": {},
     "output_type": "execute_result"
    }
   ],
   "source": [
    "data.head()"
   ]
  },
  {
   "cell_type": "code",
   "execution_count": 29,
   "id": "b8d3ed8a",
   "metadata": {},
   "outputs": [
    {
     "data": {
      "text/plain": [
       "Date\n",
       "2021-10-18   -3.100006\n",
       "2021-10-19   -1.750000\n",
       "2021-10-20   -0.559998\n",
       "2021-10-21   -0.669998\n",
       "2021-10-22    1.000000\n",
       "                ...   \n",
       "2022-10-10    0.000000\n",
       "2022-10-11    0.919998\n",
       "2022-10-12    0.790009\n",
       "2022-10-13   -8.000000\n",
       "2022-10-14    5.929993\n",
       "Length: 251, dtype: float64"
      ]
     },
     "execution_count": 29,
     "metadata": {},
     "output_type": "execute_result"
    }
   ],
   "source": [
    "daily_change"
   ]
  },
  {
   "cell_type": "code",
   "execution_count": 31,
   "id": "266a5172",
   "metadata": {},
   "outputs": [
    {
     "data": {
      "text/plain": [
       "pandas.core.series.Series"
      ]
     },
     "execution_count": 31,
     "metadata": {},
     "output_type": "execute_result"
    }
   ],
   "source": [
    "type(daily_change)"
   ]
  },
  {
   "cell_type": "code",
   "execution_count": 32,
   "id": "b3d6575f",
   "metadata": {},
   "outputs": [],
   "source": [
    "daily_percentage_change=(data['Close']-data['Open'])/data['Open']*100"
   ]
  },
  {
   "cell_type": "code",
   "execution_count": 34,
   "id": "46967ab0",
   "metadata": {},
   "outputs": [
    {
     "data": {
      "text/plain": [
       "Date\n",
       "2021-10-18    2.161036\n",
       "2021-10-19    1.190395\n",
       "2021-10-20    0.376596\n",
       "2021-10-21    0.450237\n",
       "2021-10-22   -0.668047\n",
       "                ...   \n",
       "2022-10-10    0.000000\n",
       "2022-10-11   -0.657611\n",
       "2022-10-12   -0.567821\n",
       "2022-10-13    5.926365\n",
       "2022-10-14   -4.109205\n",
       "Length: 251, dtype: float64"
      ]
     },
     "execution_count": 34,
     "metadata": {},
     "output_type": "execute_result"
    }
   ],
   "source": [
    "daily_percentage_change"
   ]
  },
  {
   "cell_type": "code",
   "execution_count": 35,
   "id": "c456417a",
   "metadata": {},
   "outputs": [
    {
     "data": {
      "text/plain": [
       "146.550003"
      ]
     },
     "execution_count": 35,
     "metadata": {},
     "output_type": "execute_result"
    }
   ],
   "source": [
    "data['Close'].iloc[0]"
   ]
  },
  {
   "cell_type": "code",
   "execution_count": 38,
   "id": "af02941b",
   "metadata": {},
   "outputs": [
    {
     "data": {
      "text/plain": [
       "138.380005"
      ]
     },
     "execution_count": 38,
     "metadata": {},
     "output_type": "execute_result"
    }
   ],
   "source": [
    "data['Close'].iloc[-1]"
   ]
  },
  {
   "cell_type": "code",
   "execution_count": 39,
   "id": "078a19df",
   "metadata": {},
   "outputs": [],
   "source": [
    "norm=data['Close']/data['Close'].iloc[0]"
   ]
  },
  {
   "cell_type": "code",
   "execution_count": 40,
   "id": "24e3acc5",
   "metadata": {},
   "outputs": [
    {
     "data": {
      "text/plain": [
       "Date\n",
       "2021-10-18    1.000000\n",
       "2021-10-19    1.015080\n",
       "2021-10-20    1.018492\n",
       "2021-10-21    1.019993\n",
       "2021-10-22    1.014603\n",
       "                ...   \n",
       "2022-10-10    0.958171\n",
       "2022-10-11    0.948345\n",
       "2022-10-12    0.943978\n",
       "2022-10-13    0.975708\n",
       "2022-10-14    0.944251\n",
       "Name: Close, Length: 251, dtype: float64"
      ]
     },
     "execution_count": 40,
     "metadata": {},
     "output_type": "execute_result"
    }
   ],
   "source": [
    "norm"
   ]
  },
  {
   "cell_type": "code",
   "execution_count": 42,
   "id": "cd711169",
   "metadata": {},
   "outputs": [
    {
     "data": {
      "text/plain": [
       "138.380005"
      ]
     },
     "execution_count": 42,
     "metadata": {},
     "output_type": "execute_result"
    }
   ],
   "source": [
    "data['Close'].iloc[0]*norm.iloc[-1]"
   ]
  },
  {
   "cell_type": "code",
   "execution_count": 43,
   "id": "895235ba",
   "metadata": {},
   "outputs": [
    {
     "data": {
      "text/plain": [
       "138.380005"
      ]
     },
     "execution_count": 43,
     "metadata": {},
     "output_type": "execute_result"
    }
   ],
   "source": [
    "data['Close'].iloc[-1]"
   ]
  },
  {
   "cell_type": "code",
   "execution_count": null,
   "id": "4a504bf4",
   "metadata": {},
   "outputs": [],
   "source": []
  }
 ],
 "metadata": {
  "kernelspec": {
   "display_name": "Python 3 (ipykernel)",
   "language": "python",
   "name": "python3"
  },
  "language_info": {
   "codemirror_mode": {
    "name": "ipython",
    "version": 3
   },
   "file_extension": ".py",
   "mimetype": "text/x-python",
   "name": "python",
   "nbconvert_exporter": "python",
   "pygments_lexer": "ipython3",
   "version": "3.9.12"
  }
 },
 "nbformat": 4,
 "nbformat_minor": 5
}
